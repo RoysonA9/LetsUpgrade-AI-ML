{
 "cells": [
  {
   "cell_type": "code",
   "execution_count": 4,
   "metadata": {},
   "outputs": [
    {
     "name": "stdout",
     "output_type": "stream",
     "text": [
      "3\n",
      "5\n",
      "7\n",
      "11\n",
      "13\n",
      "17\n",
      "19\n"
     ]
    }
   ],
   "source": [
    "# Question 1\n",
    "for a in range(1,21):\n",
    "    if a>1:\n",
    "        for i in range(2,a):\n",
    "            if(a%i)==0:\n",
    "                break\n",
    "        else:\n",
    "            if (a%2!=0):\n",
    "                print(a)\n",
    "         "
   ]
  },
  {
   "cell_type": "code",
   "execution_count": 29,
   "metadata": {},
   "outputs": [
    {
     "name": "stdout",
     "output_type": "stream",
     "text": [
      "HELLO, I LOVE LETSUPGRADE\n",
      "hello, i love letsupgrade\n",
      "Hello, i love letsupgrade\n",
      "['Hello,', 'I', 'love', 'letsupgrade']\n",
      "hello, i love letsupgrade\n",
      "4\n",
      "b'Hello, I love letsupgrade'\n",
      "7\n",
      "False\n",
      "False\n",
      "9\n",
      "True\n",
      "hELLO, i LOVE LETSUPGRADE\n",
      "Hello, I Love Letsupgrade\n",
      "0\n"
     ]
    }
   ],
   "source": [
    "# Question 2\n",
    "st=\"Hello, I love letsupgrade\"\n",
    "print(st.upper())  #1\n",
    "print(st.lower())  #2\n",
    "print(st.capitalize())   #3\n",
    "print(st.split())   #4\n",
    "print(st.casefold())   #5\n",
    "print(st.count(\"l\"))   #6\n",
    "print(st.encode())   #7\n",
    "print(st.index(\"I\"))   #8\n",
    "print(st.islower())  #9\n",
    "print(st.isdigit())   #10\n",
    "print(st.find(\"love\")) #11\n",
    "print(st.endswith(\"e\"))  #12\n",
    "print(st.swapcase())   #13\n",
    "print(st.title())   #14\n",
    "print(st.rindex(\"H\"))   #15"
   ]
  },
  {
   "cell_type": "code",
   "execution_count": 36,
   "metadata": {},
   "outputs": [
    {
     "name": "stdout",
     "output_type": "stream",
     "text": [
      "Enter a String:malayalam\n",
      "The String is Palindrone\n"
     ]
    }
   ],
   "source": [
    "# Question 3\n",
    "s=input(\"Enter a String:\")\n",
    "a= s[::-1]\n",
    "if s==a:\n",
    "    print(\"The String is Palindrone\")\n",
    "else:\n",
    "    print(\"The String is not Palindrone\")\n",
    "    "
   ]
  },
  {
   "cell_type": "code",
   "execution_count": 31,
   "metadata": {},
   "outputs": [
    {
     "name": "stdout",
     "output_type": "stream",
     "text": [
      "drdarshaningleaimltrainer"
     ]
    }
   ],
   "source": [
    "# Question 4\n",
    "st=\"\"\n",
    "s=\"Dr. Darshan Ingle @AI-ML Trainer\"\n",
    "for i in range(len(s)):\n",
    "    if(s[i].isalpha()):\n",
    "        a=s[i].lower()\n",
    "        print(a,end=\"\")\n",
    "    "
   ]
  },
  {
   "cell_type": "code",
   "execution_count": null,
   "metadata": {},
   "outputs": [],
   "source": [
    "\n"
   ]
  },
  {
   "cell_type": "code",
   "execution_count": null,
   "metadata": {},
   "outputs": [],
   "source": []
  },
  {
   "cell_type": "code",
   "execution_count": null,
   "metadata": {},
   "outputs": [],
   "source": []
  }
 ],
 "metadata": {
  "kernelspec": {
   "display_name": "Python 3",
   "language": "python",
   "name": "python3"
  },
  "language_info": {
   "codemirror_mode": {
    "name": "ipython",
    "version": 3
   },
   "file_extension": ".py",
   "mimetype": "text/x-python",
   "name": "python",
   "nbconvert_exporter": "python",
   "pygments_lexer": "ipython3",
   "version": "3.7.6"
  }
 },
 "nbformat": 4,
 "nbformat_minor": 4
}
